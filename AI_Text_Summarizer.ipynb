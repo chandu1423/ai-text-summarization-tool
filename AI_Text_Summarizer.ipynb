from transformers import pipeline

summarizer = pipeline("summarization", model="facebook/bart-large-cnn")

text = """
Artificial Intelligence (AI) is transforming every industry. From healthcare systems and finance to education and transportation,
AI is being used to automate decisions, enhance efficiency, and discover patterns that were previously undetectable.
Despite its usefulness, AI brings challenges like ethical concerns, job displacement, and fairness in automated systems.
"""

summary = summarizer(text, max_length=80, min_length=30, do_sample=False)

print("🔹 Summary:\n", summary[0]['summary_text'])
